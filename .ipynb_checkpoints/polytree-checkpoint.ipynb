{
 "cells": [
  {
   "cell_type": "markdown",
   "metadata": {},
   "source": [
    "# Machine Learning in Python - Project 1\n",
    "\n",
    "Due Friday, March 6th by 5 pm."
   ]
  },
  {
   "cell_type": "markdown",
   "metadata": {},
   "source": [
    "## 1. Setup\n",
    "\n",
    "### 1.1 Libraries"
   ]
  },
  {
   "cell_type": "code",
   "execution_count": 1,
   "metadata": {},
   "outputs": [],
   "source": [
    "# Add any additional libraries or submodules below\n",
    "\n",
    "# Display plots inline\n",
    "%matplotlib inline\n",
    "\n",
    "# Data libraries\n",
    "import pandas as pd\n",
    "import numpy as np\n",
    "\n",
    "# Plotting libraries\n",
    "import matplotlib.pyplot as plt\n",
    "import seaborn as sns\n",
    "\n",
    "# Plotting defaults\n",
    "plt.rcParams['figure.figsize'] = (8,5)\n",
    "plt.rcParams['figure.dpi'] = 80\n",
    "\n",
    "# sklearn modules\n",
    "import sklearn\n",
    "from sklearn.linear_model import LinearRegression\n",
    "from sklearn.metrics import mean_squared_error\n",
    "from sklearn.pipeline import make_pipeline\n",
    "from sklearn.model_selection import GridSearchCV, cross_val_score, KFold\n",
    "from sklearn.preprocessing import StandardScaler, PolynomialFeatures, KBinsDiscretizer\n",
    "from sklearn.compose import ColumnTransformer, make_column_transformer\n",
    "import time"
   ]
  },
  {
   "cell_type": "markdown",
   "metadata": {},
   "source": [
    "### 1.2 Data"
   ]
  },
  {
   "cell_type": "code",
   "execution_count": 2,
   "metadata": {},
   "outputs": [],
   "source": [
    "sales = pd.read_csv(\"sales.csv\")\n",
    "sales_test = pd.read_csv(\"sales_test.csv\")"
   ]
  },
  {
   "cell_type": "markdown",
   "metadata": {},
   "source": [
    "## 2. Exploratory Data Analysis and Preprocessing"
   ]
  },
  {
   "cell_type": "markdown",
   "metadata": {},
   "source": [
    "*Include a discussion of the data with a particular emphasis on the features of the data that are relevant for the subsequent modeling. Including visualizations of the data is strongly encouraged - all code and plots must also be described in the write up.*\n",
    "\n",
    "*In this section you should also implement and describe any preprocessing / transformations of the features. Hint - you should not be modeling this data without transforming some of the features, e.g. modeling sale price directly is not a good idea.*"
   ]
  },
  {
   "cell_type": "markdown",
   "metadata": {},
   "source": [
    "### 2.1 A glimpse on the dataset."
   ]
  },
  {
   "cell_type": "markdown",
   "metadata": {},
   "source": [
    "Looking at a few rows in the dataset."
   ]
  },
  {
   "cell_type": "code",
   "execution_count": 3,
   "metadata": {},
   "outputs": [
    {
     "data": {
      "text/html": [
       "<div>\n",
       "<style scoped>\n",
       "    .dataframe tbody tr th:only-of-type {\n",
       "        vertical-align: middle;\n",
       "    }\n",
       "\n",
       "    .dataframe tbody tr th {\n",
       "        vertical-align: top;\n",
       "    }\n",
       "\n",
       "    .dataframe thead th {\n",
       "        text-align: right;\n",
       "    }\n",
       "</style>\n",
       "<table border=\"1\" class=\"dataframe\">\n",
       "  <thead>\n",
       "    <tr style=\"text-align: right;\">\n",
       "      <th></th>\n",
       "      <th>sale_price</th>\n",
       "      <th>year_sold</th>\n",
       "      <th>year_built</th>\n",
       "      <th>lot_area</th>\n",
       "      <th>basement_area</th>\n",
       "      <th>living_area</th>\n",
       "      <th>full_bath</th>\n",
       "      <th>half_bath</th>\n",
       "      <th>bedroom</th>\n",
       "      <th>garage_cars</th>\n",
       "      <th>garage_area</th>\n",
       "      <th>ac</th>\n",
       "      <th>zoning</th>\n",
       "      <th>neighborhood</th>\n",
       "      <th>quality</th>\n",
       "      <th>condition</th>\n",
       "    </tr>\n",
       "  </thead>\n",
       "  <tbody>\n",
       "    <tr>\n",
       "      <th>0</th>\n",
       "      <td>244000</td>\n",
       "      <td>2010</td>\n",
       "      <td>1968</td>\n",
       "      <td>11160</td>\n",
       "      <td>2110</td>\n",
       "      <td>2110</td>\n",
       "      <td>2</td>\n",
       "      <td>1</td>\n",
       "      <td>3</td>\n",
       "      <td>2</td>\n",
       "      <td>522</td>\n",
       "      <td>Y</td>\n",
       "      <td>Residential_Low_Density</td>\n",
       "      <td>nb_07</td>\n",
       "      <td>good</td>\n",
       "      <td>average</td>\n",
       "    </tr>\n",
       "    <tr>\n",
       "      <th>1</th>\n",
       "      <td>189900</td>\n",
       "      <td>2010</td>\n",
       "      <td>1997</td>\n",
       "      <td>13830</td>\n",
       "      <td>928</td>\n",
       "      <td>1629</td>\n",
       "      <td>2</td>\n",
       "      <td>1</td>\n",
       "      <td>3</td>\n",
       "      <td>2</td>\n",
       "      <td>482</td>\n",
       "      <td>Y</td>\n",
       "      <td>Residential_Low_Density</td>\n",
       "      <td>nb_22</td>\n",
       "      <td>average</td>\n",
       "      <td>average</td>\n",
       "    </tr>\n",
       "    <tr>\n",
       "      <th>2</th>\n",
       "      <td>191500</td>\n",
       "      <td>2010</td>\n",
       "      <td>1992</td>\n",
       "      <td>5005</td>\n",
       "      <td>1280</td>\n",
       "      <td>1280</td>\n",
       "      <td>2</td>\n",
       "      <td>0</td>\n",
       "      <td>2</td>\n",
       "      <td>2</td>\n",
       "      <td>506</td>\n",
       "      <td>Y</td>\n",
       "      <td>Residential_Low_Density</td>\n",
       "      <td>nb_10</td>\n",
       "      <td>good</td>\n",
       "      <td>average</td>\n",
       "    </tr>\n",
       "    <tr>\n",
       "      <th>3</th>\n",
       "      <td>236500</td>\n",
       "      <td>2010</td>\n",
       "      <td>1995</td>\n",
       "      <td>5389</td>\n",
       "      <td>1595</td>\n",
       "      <td>1616</td>\n",
       "      <td>2</td>\n",
       "      <td>0</td>\n",
       "      <td>2</td>\n",
       "      <td>2</td>\n",
       "      <td>608</td>\n",
       "      <td>Y</td>\n",
       "      <td>Residential_Low_Density</td>\n",
       "      <td>nb_10</td>\n",
       "      <td>good</td>\n",
       "      <td>average</td>\n",
       "    </tr>\n",
       "    <tr>\n",
       "      <th>4</th>\n",
       "      <td>189000</td>\n",
       "      <td>2010</td>\n",
       "      <td>1999</td>\n",
       "      <td>7500</td>\n",
       "      <td>994</td>\n",
       "      <td>1804</td>\n",
       "      <td>2</td>\n",
       "      <td>1</td>\n",
       "      <td>3</td>\n",
       "      <td>2</td>\n",
       "      <td>442</td>\n",
       "      <td>Y</td>\n",
       "      <td>Residential_Low_Density</td>\n",
       "      <td>nb_22</td>\n",
       "      <td>good</td>\n",
       "      <td>average</td>\n",
       "    </tr>\n",
       "    <tr>\n",
       "      <th>...</th>\n",
       "      <td>...</td>\n",
       "      <td>...</td>\n",
       "      <td>...</td>\n",
       "      <td>...</td>\n",
       "      <td>...</td>\n",
       "      <td>...</td>\n",
       "      <td>...</td>\n",
       "      <td>...</td>\n",
       "      <td>...</td>\n",
       "      <td>...</td>\n",
       "      <td>...</td>\n",
       "      <td>...</td>\n",
       "      <td>...</td>\n",
       "      <td>...</td>\n",
       "      <td>...</td>\n",
       "      <td>...</td>\n",
       "    </tr>\n",
       "    <tr>\n",
       "      <th>1579</th>\n",
       "      <td>79500</td>\n",
       "      <td>2006</td>\n",
       "      <td>1970</td>\n",
       "      <td>1526</td>\n",
       "      <td>546</td>\n",
       "      <td>1092</td>\n",
       "      <td>1</td>\n",
       "      <td>1</td>\n",
       "      <td>3</td>\n",
       "      <td>0</td>\n",
       "      <td>0</td>\n",
       "      <td>Y</td>\n",
       "      <td>Residential_Medium_Density</td>\n",
       "      <td>nb_02</td>\n",
       "      <td>average</td>\n",
       "      <td>average</td>\n",
       "    </tr>\n",
       "    <tr>\n",
       "      <th>1580</th>\n",
       "      <td>160000</td>\n",
       "      <td>2006</td>\n",
       "      <td>1977</td>\n",
       "      <td>17400</td>\n",
       "      <td>1126</td>\n",
       "      <td>1126</td>\n",
       "      <td>2</td>\n",
       "      <td>0</td>\n",
       "      <td>3</td>\n",
       "      <td>2</td>\n",
       "      <td>484</td>\n",
       "      <td>Y</td>\n",
       "      <td>Residential_Low_Density</td>\n",
       "      <td>nb_20</td>\n",
       "      <td>average</td>\n",
       "      <td>average</td>\n",
       "    </tr>\n",
       "    <tr>\n",
       "      <th>1581</th>\n",
       "      <td>142500</td>\n",
       "      <td>2006</td>\n",
       "      <td>1984</td>\n",
       "      <td>7937</td>\n",
       "      <td>1003</td>\n",
       "      <td>1003</td>\n",
       "      <td>1</td>\n",
       "      <td>0</td>\n",
       "      <td>3</td>\n",
       "      <td>2</td>\n",
       "      <td>588</td>\n",
       "      <td>Y</td>\n",
       "      <td>Residential_Low_Density</td>\n",
       "      <td>nb_20</td>\n",
       "      <td>average</td>\n",
       "      <td>average</td>\n",
       "    </tr>\n",
       "    <tr>\n",
       "      <th>1582</th>\n",
       "      <td>132000</td>\n",
       "      <td>2006</td>\n",
       "      <td>1992</td>\n",
       "      <td>10441</td>\n",
       "      <td>912</td>\n",
       "      <td>970</td>\n",
       "      <td>1</td>\n",
       "      <td>0</td>\n",
       "      <td>3</td>\n",
       "      <td>0</td>\n",
       "      <td>0</td>\n",
       "      <td>Y</td>\n",
       "      <td>Residential_Low_Density</td>\n",
       "      <td>nb_20</td>\n",
       "      <td>average</td>\n",
       "      <td>average</td>\n",
       "    </tr>\n",
       "    <tr>\n",
       "      <th>1583</th>\n",
       "      <td>170000</td>\n",
       "      <td>2006</td>\n",
       "      <td>1974</td>\n",
       "      <td>10010</td>\n",
       "      <td>1389</td>\n",
       "      <td>1389</td>\n",
       "      <td>1</td>\n",
       "      <td>0</td>\n",
       "      <td>2</td>\n",
       "      <td>2</td>\n",
       "      <td>418</td>\n",
       "      <td>Y</td>\n",
       "      <td>Residential_Low_Density</td>\n",
       "      <td>nb_20</td>\n",
       "      <td>average</td>\n",
       "      <td>average</td>\n",
       "    </tr>\n",
       "  </tbody>\n",
       "</table>\n",
       "<p>1584 rows × 16 columns</p>\n",
       "</div>"
      ],
      "text/plain": [
       "      sale_price  year_sold  year_built  lot_area  basement_area  living_area  \\\n",
       "0         244000       2010        1968     11160           2110         2110   \n",
       "1         189900       2010        1997     13830            928         1629   \n",
       "2         191500       2010        1992      5005           1280         1280   \n",
       "3         236500       2010        1995      5389           1595         1616   \n",
       "4         189000       2010        1999      7500            994         1804   \n",
       "...          ...        ...         ...       ...            ...          ...   \n",
       "1579       79500       2006        1970      1526            546         1092   \n",
       "1580      160000       2006        1977     17400           1126         1126   \n",
       "1581      142500       2006        1984      7937           1003         1003   \n",
       "1582      132000       2006        1992     10441            912          970   \n",
       "1583      170000       2006        1974     10010           1389         1389   \n",
       "\n",
       "      full_bath  half_bath  bedroom  garage_cars  garage_area ac  \\\n",
       "0             2          1        3            2          522  Y   \n",
       "1             2          1        3            2          482  Y   \n",
       "2             2          0        2            2          506  Y   \n",
       "3             2          0        2            2          608  Y   \n",
       "4             2          1        3            2          442  Y   \n",
       "...         ...        ...      ...          ...          ... ..   \n",
       "1579          1          1        3            0            0  Y   \n",
       "1580          2          0        3            2          484  Y   \n",
       "1581          1          0        3            2          588  Y   \n",
       "1582          1          0        3            0            0  Y   \n",
       "1583          1          0        2            2          418  Y   \n",
       "\n",
       "                          zoning neighborhood  quality condition  \n",
       "0        Residential_Low_Density        nb_07     good   average  \n",
       "1        Residential_Low_Density        nb_22  average   average  \n",
       "2        Residential_Low_Density        nb_10     good   average  \n",
       "3        Residential_Low_Density        nb_10     good   average  \n",
       "4        Residential_Low_Density        nb_22     good   average  \n",
       "...                          ...          ...      ...       ...  \n",
       "1579  Residential_Medium_Density        nb_02  average   average  \n",
       "1580     Residential_Low_Density        nb_20  average   average  \n",
       "1581     Residential_Low_Density        nb_20  average   average  \n",
       "1582     Residential_Low_Density        nb_20  average   average  \n",
       "1583     Residential_Low_Density        nb_20  average   average  \n",
       "\n",
       "[1584 rows x 16 columns]"
      ]
     },
     "execution_count": 3,
     "metadata": {},
     "output_type": "execute_result"
    }
   ],
   "source": [
    "sales"
   ]
  },
  {
   "cell_type": "markdown",
   "metadata": {},
   "source": [
    "Take a look at the datatypes of the columns."
   ]
  },
  {
   "cell_type": "code",
   "execution_count": 4,
   "metadata": {},
   "outputs": [
    {
     "data": {
      "text/plain": [
       "sale_price        int64\n",
       "year_sold         int64\n",
       "year_built        int64\n",
       "lot_area          int64\n",
       "basement_area     int64\n",
       "living_area       int64\n",
       "full_bath         int64\n",
       "half_bath         int64\n",
       "bedroom           int64\n",
       "garage_cars       int64\n",
       "garage_area       int64\n",
       "ac               object\n",
       "zoning           object\n",
       "neighborhood     object\n",
       "quality          object\n",
       "condition        object\n",
       "dtype: object"
      ]
     },
     "execution_count": 4,
     "metadata": {},
     "output_type": "execute_result"
    }
   ],
   "source": [
    "sales.dtypes"
   ]
  },
  {
   "cell_type": "markdown",
   "metadata": {},
   "source": [
    "Column `ac`, `zoning`, `neighborhood`, `quality`, and `condition` are apparent categorical variables to be encoded. This is also mentioned in the `README.ipynb` file. "
   ]
  },
  {
   "cell_type": "markdown",
   "metadata": {},
   "source": [
    "### 2.2 Transform categorical variables using one hot encoding"
   ]
  },
  {
   "cell_type": "markdown",
   "metadata": {},
   "source": [
    "Here, I would like to discuss how I would transform the categorical variables of this dataset, with rules specified in the `encoding` dictionary.\n",
    "\n",
    "All the categorical features except `neighborhood` can be easily transformed. However, I decide to sort the `neighborhood` by their means. I will then transform it into an ordinal feature so that this feature can be fitted into a linear model."
   ]
  },
  {
   "cell_type": "code",
   "execution_count": 5,
   "metadata": {},
   "outputs": [],
   "source": [
    "rank_neighbor = sales[[\"sale_price\", \"neighborhood\"]].groupby(['neighborhood'], as_index=False).mean()\n",
    "rank_neighbor.sort_values(\"sale_price\", inplace=True)\n",
    "ordering = {\n",
    "    neighbor: i for i, neighbor in enumerate(rank_neighbor[\"neighborhood\"])\n",
    "}"
   ]
  },
  {
   "cell_type": "markdown",
   "metadata": {},
   "source": [
    "If there is air-conditioning (`ac` = `\"Y\"`), encode it as `1`; otherwise `0`.\n",
    "\n",
    "Transform `zoning` into an ordinal variable, with `0` being the `Residential_Low_Density` , `1` being the `Residential_Medium_Density` and `2` being the `Residential_High_Density`.\n",
    "\n",
    "Transform `neighborhood` with the numbering of that neighborhood, e.g., `nb_01` is encoded as `1` and `nb_12` is encoded as `12`.\n",
    "\n",
    "Transform the `quality` and `condition` columns into ordinals, `poor` as `0`, `fair` as `1`, `good` as `2`, `excellent` as `3`. "
   ]
  },
  {
   "cell_type": "code",
   "execution_count": 6,
   "metadata": {},
   "outputs": [],
   "source": [
    "encoding = {\n",
    "    \"ac\": {\"N\": 0, \"Y\": 1},\n",
    "    \"zoning\": {\"Residential_Low_Density\": 0, \"Residential_Medium_Density\": 1, \"Residential_High_Density\": 2},\n",
    "    \"neighborhood\": ordering,\n",
    "    \"quality\": {\"poor\": 0, \"fair\": 1, \"average\": 2, \"good\": 3, \"excellent\": 4},\n",
    "    \"condition\": {\"poor\": 0, \"fair\": 1, \"average\": 2, \"good\": 3, \"excellent\": 4}\n",
    "}"
   ]
  },
  {
   "cell_type": "markdown",
   "metadata": {},
   "source": [
    "Transform the features as specified. I also decide to scale the `sale_price` using a log function and store it in the `log_sale_price` column so it looks more like a normal distribution."
   ]
  },
  {
   "cell_type": "code",
   "execution_count": 7,
   "metadata": {},
   "outputs": [],
   "source": [
    "sales.replace(encoding, inplace=True)\n",
    "sales[\"log_sale_price\"] = np.log(sales[\"sale_price\"])"
   ]
  },
  {
   "cell_type": "code",
   "execution_count": 8,
   "metadata": {},
   "outputs": [],
   "source": [
    "sales_test.replace(encoding, inplace=True)\n",
    "y_test = sales_test[\"sale_price\"]\n",
    "log_y_test = np.log(sales_test[\"sale_price\"])"
   ]
  },
  {
   "cell_type": "markdown",
   "metadata": {},
   "source": [
    "Feature matrix X of the training data"
   ]
  },
  {
   "cell_type": "code",
   "execution_count": 9,
   "metadata": {},
   "outputs": [],
   "source": [
    "X = sales.loc[:, \"year_sold\": \"condition\"]"
   ]
  },
  {
   "cell_type": "markdown",
   "metadata": {},
   "source": [
    "Feature matrix X_test of the testing data"
   ]
  },
  {
   "cell_type": "code",
   "execution_count": 10,
   "metadata": {},
   "outputs": [],
   "source": [
    "X_test = sales_test.loc[:, \"year_sold\": \"condition\"]"
   ]
  },
  {
   "cell_type": "markdown",
   "metadata": {},
   "source": [
    "True label vector y and scaled label vector log_y of the training data"
   ]
  },
  {
   "cell_type": "code",
   "execution_count": 11,
   "metadata": {},
   "outputs": [],
   "source": [
    "log_y = sales[\"log_sale_price\"]\n",
    "y = sales[\"sale_price\"]"
   ]
  },
  {
   "cell_type": "markdown",
   "metadata": {},
   "source": [
    "## 3. Model Fitting and Tuning"
   ]
  },
  {
   "cell_type": "markdown",
   "metadata": {},
   "source": [
    "The combined model of polynomial regression and regression tree"
   ]
  },
  {
   "cell_type": "code",
   "execution_count": 12,
   "metadata": {},
   "outputs": [
    {
     "data": {
      "text/plain": [
       "{'kbinsdiscretizer-1': KBinsDiscretizer(encode='onehot-dense', n_bins=5, strategy='uniform'),\n",
       " 'polynomialfeatures-1': PolynomialFeatures(degree=3, include_bias=False, interaction_only=False,\n",
       "                    order='C'),\n",
       " 'polynomialfeatures-2': PolynomialFeatures(degree=3, include_bias=False, interaction_only=False,\n",
       "                    order='C'),\n",
       " 'polynomialfeatures-3': PolynomialFeatures(degree=3, include_bias=False, interaction_only=False,\n",
       "                    order='C'),\n",
       " 'polynomialfeatures-4': PolynomialFeatures(degree=3, include_bias=False, interaction_only=False,\n",
       "                    order='C'),\n",
       " 'kbinsdiscretizer-2': KBinsDiscretizer(encode='onehot-dense', n_bins=5, strategy='uniform'),\n",
       " 'kbinsdiscretizer-3': KBinsDiscretizer(encode='onehot-dense', n_bins=3, strategy='uniform'),\n",
       " 'kbinsdiscretizer-4': KBinsDiscretizer(encode='onehot-dense', n_bins=7, strategy='uniform'),\n",
       " 'kbinsdiscretizer-5': KBinsDiscretizer(encode='onehot-dense', n_bins=6, strategy='uniform'),\n",
       " 'polynomialfeatures-5': PolynomialFeatures(degree=3, include_bias=False, interaction_only=False,\n",
       "                    order='C'),\n",
       " 'kbinsdiscretizer-6': KBinsDiscretizer(encode='onehot-dense', n_bins=2, strategy='uniform'),\n",
       " 'kbinsdiscretizer-7': KBinsDiscretizer(encode='onehot-dense', n_bins=3, strategy='uniform'),\n",
       " 'kbinsdiscretizer-8': KBinsDiscretizer(encode='onehot-dense', n_bins=24, strategy='uniform'),\n",
       " 'kbinsdiscretizer-9': KBinsDiscretizer(encode='onehot-dense', n_bins=5, strategy='uniform'),\n",
       " 'kbinsdiscretizer-10': KBinsDiscretizer(encode='onehot-dense', n_bins=5, strategy='uniform')}"
      ]
     },
     "execution_count": 12,
     "metadata": {},
     "output_type": "execute_result"
    }
   ],
   "source": [
    "degree_poly = 3\n",
    "\n",
    "polytree_model  = make_pipeline(\n",
    "    make_column_transformer(\n",
    "        (KBinsDiscretizer(n_bins=5, strategy=\"uniform\", encode=\"onehot-dense\"), [\"year_sold\"]),\n",
    "        (PolynomialFeatures(degree=degree_poly, include_bias=False), [\"year_built\"]),\n",
    "        (PolynomialFeatures(degree=degree_poly, include_bias=False), [\"lot_area\"]),\n",
    "        (PolynomialFeatures(degree=degree_poly, include_bias=False), [\"basement_area\"]),\n",
    "        (PolynomialFeatures(degree=degree_poly, include_bias=False), [\"living_area\"]),\n",
    "        (KBinsDiscretizer(n_bins=5, strategy=\"uniform\", encode=\"onehot-dense\"), [\"full_bath\"]), \n",
    "        (KBinsDiscretizer(n_bins=3, strategy=\"uniform\", encode=\"onehot-dense\"), [\"half_bath\"]), \n",
    "        (KBinsDiscretizer(n_bins=7, strategy=\"uniform\", encode=\"onehot-dense\"), [\"bedroom\"]), \n",
    "        (KBinsDiscretizer(n_bins=6, strategy=\"uniform\", encode=\"onehot-dense\"), [\"garage_cars\"]), \n",
    "        (PolynomialFeatures(degree=degree_poly, include_bias=False), [\"garage_area\"]),\n",
    "        (KBinsDiscretizer(n_bins=2, strategy=\"uniform\", encode=\"onehot-dense\"), [\"ac\"]),\n",
    "        (KBinsDiscretizer(n_bins=3, strategy=\"uniform\", encode=\"onehot-dense\"), [\"zoning\"]),\n",
    "        (KBinsDiscretizer(n_bins=24, strategy=\"uniform\", encode=\"onehot-dense\"), [\"neighborhood\"]),\n",
    "        (KBinsDiscretizer(n_bins=5, strategy=\"uniform\", encode=\"onehot-dense\"), [\"quality\"]),\n",
    "        (KBinsDiscretizer(n_bins=5, strategy=\"uniform\", encode=\"onehot-dense\"), [\"condition\"]),\n",
    "    ),\n",
    "    LinearRegression(fit_intercept=True)\n",
    ")\n",
    "\n",
    "fit = polytree_model.fit(X, log_y)\n",
    "polytree_model.named_steps[\"columntransformer\"].named_transformers_"
   ]
  },
  {
   "cell_type": "code",
   "execution_count": 13,
   "metadata": {},
   "outputs": [
    {
     "name": "stdout",
     "output_type": "stream",
     "text": [
      "Fitting 5 folds for each of 243 candidates, totalling 1215 fits\n"
     ]
    },
    {
     "name": "stderr",
     "output_type": "stream",
     "text": [
      "[Parallel(n_jobs=1)]: Using backend SequentialBackend with 1 concurrent workers.\n",
      "[Parallel(n_jobs=1)]: Done 1215 out of 1215 | elapsed:  4.4min finished\n"
     ]
    },
    {
     "name": "stdout",
     "output_type": "stream",
     "text": [
      "4.36329962015152 minutes\n"
     ]
    },
    {
     "data": {
      "text/plain": [
       "GridSearchCV(cv=KFold(n_splits=5, random_state=2020, shuffle=True),\n",
       "             error_score=nan,\n",
       "             estimator=Pipeline(memory=None,\n",
       "                                steps=[('columntransformer',\n",
       "                                        ColumnTransformer(n_jobs=None,\n",
       "                                                          remainder='drop',\n",
       "                                                          sparse_threshold=0.3,\n",
       "                                                          transformer_weights=None,\n",
       "                                                          transformers=[('kbinsdiscretizer-1',\n",
       "                                                                         KBinsDiscretizer(encode='onehot-dense',\n",
       "                                                                                          n_bins=5,\n",
       "                                                                                          strategy='uniform'),\n",
       "                                                                         ['year_sold']...\n",
       "                         'columntransformer__polynomialfeatures-2__degree': array([1, 2, 3]),\n",
       "                         'columntransformer__polynomialfeatures-3__degree': array([1, 2, 3]),\n",
       "                         'columntransformer__polynomialfeatures-4__degree': array([1, 2, 3]),\n",
       "                         'columntransformer__polynomialfeatures-5__degree': array([1, 2, 3])},\n",
       "             pre_dispatch='2*n_jobs', refit=True, return_train_score=False,\n",
       "             scoring='neg_root_mean_squared_error', verbose=1)"
      ]
     },
     "execution_count": 13,
     "metadata": {},
     "output_type": "execute_result"
    }
   ],
   "source": [
    "parameters = {\n",
    "    'columntransformer__polynomialfeatures-1__degree': np.arange(1, degree_poly + 1),\n",
    "    'columntransformer__polynomialfeatures-2__degree': np.arange(1, degree_poly + 1),\n",
    "    'columntransformer__polynomialfeatures-3__degree': np.arange(1, degree_poly + 1),\n",
    "    'columntransformer__polynomialfeatures-4__degree': np.arange(1, degree_poly + 1),\n",
    "    'columntransformer__polynomialfeatures-5__degree': np.arange(1, degree_poly + 1),\n",
    "}\n",
    "\n",
    "start = time.time()\n",
    "grid_search = GridSearchCV(polytree_model, parameters, \n",
    "                           cv=KFold(5, True, random_state=2020), \n",
    "                           scoring=\"neg_root_mean_squared_error\", \n",
    "                           verbose=1).fit(X, log_y)\n",
    "print((time.time() - start)/ 60, \"minutes\")\n",
    "grid_search"
   ]
  },
  {
   "cell_type": "code",
   "execution_count": 14,
   "metadata": {},
   "outputs": [
    {
     "name": "stdout",
     "output_type": "stream",
     "text": [
      "best index:  132\n",
      "best param:  {'columntransformer__polynomialfeatures-1__degree': 2, 'columntransformer__polynomialfeatures-2__degree': 2, 'columntransformer__polynomialfeatures-3__degree': 3, 'columntransformer__polynomialfeatures-4__degree': 3, 'columntransformer__polynomialfeatures-5__degree': 1}\n",
      "best score:  -0.11014691279818682\n"
     ]
    }
   ],
   "source": [
    "print(\"best index: \", grid_search.best_index_)\n",
    "print(\"best param: \", grid_search.best_params_)\n",
    "print(\"best score: \", grid_search.best_score_)"
   ]
  },
  {
   "cell_type": "code",
   "execution_count": 15,
   "metadata": {},
   "outputs": [
    {
     "name": "stdout",
     "output_type": "stream",
     "text": [
      "76 Best Coefficients [ 3.35329616e-03 -5.14185922e-03  6.24168396e-03 -2.89013224e-03\n",
      " -1.56303918e-03 -7.58843566e-02  2.02642768e-05  6.55349069e-06\n",
      " -3.10862351e-11  2.38523803e-04 -6.69432500e-08  1.22833063e-11\n",
      "  7.55491714e-04 -2.05819582e-07  2.71854952e-11 -1.08643569e-01\n",
      " -3.48334114e-02 -4.14808647e-02 -5.53758334e-03  1.90495429e-01\n",
      "  5.44794415e-03  1.56013628e-02 -2.10493070e-02  1.84617597e-01\n",
      "  7.17862009e-02  2.96024020e-02  1.82480473e-02 -2.44208039e-02\n",
      " -3.72700648e-02 -2.42563379e-01 -6.79106370e-02 -2.31354039e-03\n",
      "  1.48417916e-02  4.71825620e-02  1.88384058e-02 -1.06385820e-02\n",
      "  1.13811957e-04 -3.87501103e-02  3.87501103e-02  4.88471492e-02\n",
      " -5.67303611e-03 -4.31741131e-02 -1.85585046e-01 -9.62775121e-02\n",
      "  1.27151250e-04 -3.37626543e-02  4.01465099e-02 -5.77159269e-02\n",
      " -1.26179869e-02 -2.23143758e-02 -3.53561093e-02 -3.66819243e-03\n",
      " -1.54275347e-02 -3.36802510e-02 -3.60936717e-02 -6.48609037e-03\n",
      " -2.20923422e-02 -3.25905960e-02  1.43308507e-01  5.94279442e-02\n",
      "  2.95493786e-02  7.28030471e-02  6.79779330e-02  4.70645873e-02\n",
      "  3.92606647e-02  9.40025671e-02 -2.12997105e-01 -9.88766850e-02\n",
      " -1.73024823e-02  6.69634743e-02  2.62212798e-01 -2.14578623e-01\n",
      " -1.51199668e-01  2.10185848e-02  1.31736034e-01  2.13023673e-01]\n",
      "Best Intercept 81.68016982837528\n"
     ]
    }
   ],
   "source": [
    "print(len(grid_search.best_estimator_.named_steps['linearregression'].coef_), \"Best Coefficients\", \n",
    "      grid_search.best_estimator_.named_steps['linearregression'].coef_)\n",
    "print(\"Best Intercept\", grid_search.best_estimator_.named_steps['linearregression'].intercept_)"
   ]
  },
  {
   "cell_type": "code",
   "execution_count": 16,
   "metadata": {},
   "outputs": [
    {
     "name": "stdout",
     "output_type": "stream",
     "text": [
      "training log rmse 0.1025951666361805\n"
     ]
    }
   ],
   "source": [
    "log_train_prediction = grid_search.best_estimator_.predict(X)\n",
    "print(\"training log rmse\", np.sqrt(mean_squared_error(log_y, log_train_prediction )))"
   ]
  },
  {
   "cell_type": "code",
   "execution_count": 17,
   "metadata": {},
   "outputs": [
    {
     "name": "stdout",
     "output_type": "stream",
     "text": [
      "training rmse 18978.01543333264\n"
     ]
    }
   ],
   "source": [
    "print(\"training rmse\", np.sqrt(mean_squared_error(y, np.exp(log_train_prediction ))))"
   ]
  },
  {
   "cell_type": "code",
   "execution_count": 18,
   "metadata": {},
   "outputs": [
    {
     "name": "stdout",
     "output_type": "stream",
     "text": [
      "log cross validation rmse [0.11517973 0.10810453 0.11404037 0.11359755 0.09981239]\n"
     ]
    }
   ],
   "source": [
    "print(\"log cross validation rmse\", -1 * cross_val_score(grid_search.best_estimator_, X, log_y, \n",
    "                                                        cv=KFold(5, True, random_state=2020), \n",
    "                                                        scoring=\"neg_root_mean_squared_error\"))"
   ]
  },
  {
   "cell_type": "code",
   "execution_count": 19,
   "metadata": {},
   "outputs": [
    {
     "name": "stdout",
     "output_type": "stream",
     "text": [
      "testing log rmse 0.11617928944609092\n"
     ]
    }
   ],
   "source": [
    "log_test_prediction = grid_search.best_estimator_.predict(X_test)\n",
    "print(\"testing log rmse\", np.sqrt(mean_squared_error(log_y_test, log_test_prediction)))"
   ]
  },
  {
   "cell_type": "code",
   "execution_count": 20,
   "metadata": {},
   "outputs": [
    {
     "name": "stdout",
     "output_type": "stream",
     "text": [
      "testing rmse 21960.640520199366\n"
     ]
    }
   ],
   "source": [
    "print(\"testing rmse\", np.sqrt(mean_squared_error(y_test, np.exp(log_test_prediction))))"
   ]
  }
 ],
 "metadata": {
  "kernelspec": {
   "display_name": "Python 3",
   "language": "python",
   "name": "python3"
  },
  "language_info": {
   "codemirror_mode": {
    "name": "ipython",
    "version": 3
   },
   "file_extension": ".py",
   "mimetype": "text/x-python",
   "name": "python",
   "nbconvert_exporter": "python",
   "pygments_lexer": "ipython3",
   "version": "3.6.9"
  }
 },
 "nbformat": 4,
 "nbformat_minor": 4
}
